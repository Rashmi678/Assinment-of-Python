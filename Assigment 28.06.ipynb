{
 "cells": [
  {
   "cell_type": "code",
   "execution_count": 11,
   "metadata": {},
   "outputs": [
    {
     "name": "stdout",
     "output_type": "stream",
     "text": [
      "Enter The Nubmber:7\n",
      "Table of num is:\n",
      "7 X 1 = 7\n",
      "7 X 2 = 14\n",
      "7 X 3 = 21\n",
      "7 X 4 = 28\n",
      "7 X 5 = 35\n",
      "7 X 6 = 42\n",
      "7 X 7 = 49\n",
      "7 X 8 = 56\n",
      "7 X 9 = 63\n",
      "7 X 10 = 70\n"
     ]
    }
   ],
   "source": [
    "num = int(input('Enter The Nubmber:'))\n",
    "print('Table of num is:')\n",
    "\n",
    "for i in range(1,11):\n",
    "    print (num,'X',i,'=',num*i)"
   ]
  },
  {
   "cell_type": "code",
   "execution_count": 30,
   "metadata": {},
   "outputs": [],
   "source": [
    "def is_prime(n):\n",
    "    for i in range(2,n):\n",
    "        if n%i==0:\n",
    "            return False\n",
    "    return True\n",
    "\n",
    "def generate_twin(start,end):\n",
    "    for i in range (start,end):\n",
    "         j=i+2    \n",
    "    if(is_prime(i)and is_prime(j)):\n",
    "        print ('{:d} and {:d}'.format(i,j))     \n",
    "        \n",
    "generate_twin(2,1000)"
   ]
  },
  {
   "cell_type": "code",
   "execution_count": 35,
   "metadata": {},
   "outputs": [
    {
     "name": "stdout",
     "output_type": "stream",
     "text": [
      "Enter the no:56\n",
      " 2 is a Prime Factor of a Given Number 56\n",
      " 3 is a Prime Factor of a Given Number 56\n",
      " 7 is a Prime Factor of a Given Number 56\n"
     ]
    }
   ],
   "source": [
    "n=int(input('Enter the no:'))\n",
    "\n",
    "for i in range(2, n+1):\n",
    "    if n%i==0:\n",
    "        is_prime=1\n",
    "        for j in range(2,(i//2+1)):\n",
    "            if (i%j==0):\n",
    "                is_prime=0\n",
    "                break\n",
    "          \n",
    "    if (is_prime == 1):\n",
    "        print(\" %d is a Prime Factor of a Given Number %d\" %(i,n))"
   ]
  },
  {
   "cell_type": "code",
   "execution_count": 42,
   "metadata": {},
   "outputs": [
    {
     "name": "stdout",
     "output_type": "stream",
     "text": [
      "Enter Decimal number:54\n",
      "Equivalent Binary No.: 0b110110\n"
     ]
    }
   ],
   "source": [
    "num=int(input('Enter Decimal number:'))\n",
    "print('Equivalent Binary No.:', bin(num))"
   ]
  },
  {
   "cell_type": "code",
   "execution_count": 46,
   "metadata": {},
   "outputs": [
    {
     "data": {
      "text/plain": [
       "6"
      ]
     },
     "execution_count": 46,
     "metadata": {},
     "output_type": "execute_result"
    }
   ],
   "source": [
    "def prodDigits(x,y):\n",
    "    return x*y\n",
    "result=prodDigits (2,3)\n",
    "result"
   ]
  },
  {
   "cell_type": "code",
   "execution_count": 2,
   "metadata": {},
   "outputs": [
    {
     "data": {
      "text/plain": [
       "(1, 3, 5, 7, 9)"
      ]
     },
     "execution_count": 2,
     "metadata": {},
     "output_type": "execute_result"
    }
   ],
   "source": [
    "def is_odd(x):\n",
    "    if x%2!= 0:\n",
    "        return True\n",
    "    else:\n",
    "        return False\n",
    "\n",
    "l=[1,2,3,4,5,6,7,8,9]    \n",
    "tuple(filter(is_odd,l))"
   ]
  },
  {
   "cell_type": "code",
   "execution_count": 5,
   "metadata": {},
   "outputs": [
    {
     "data": {
      "text/plain": [
       "(1, 8, 27, 64, 125, 216)"
      ]
     },
     "execution_count": 5,
     "metadata": {},
     "output_type": "execute_result"
    }
   ],
   "source": [
    "def cube(x):\n",
    "    return x**3\n",
    "\n",
    "l=[1,2,3,4,5,6]\n",
    "tuple (map(cube,l))"
   ]
  },
  {
   "cell_type": "code",
   "execution_count": 16,
   "metadata": {},
   "outputs": [
    {
     "data": {
      "text/plain": [
       "(8, 64, 216, 512)"
      ]
     },
     "execution_count": 16,
     "metadata": {},
     "output_type": "execute_result"
    }
   ],
   "source": [
    "def iseven(x):\n",
    "    if x%2==0:\n",
    "        return True\n",
    "    \n",
    "def cube(x):\n",
    "    return x**3\n",
    "\n",
    "l=[1,2,3,4,5,6,7,8,9]\n",
    "a=tuple(filter(iseven,l))\n",
    "a\n",
    "tuple(map(cube,a))"
   ]
  },
  {
   "cell_type": "code",
   "execution_count": 17,
   "metadata": {},
   "outputs": [
    {
     "name": "stdout",
     "output_type": "stream",
     "text": [
      "\n",
      "Pllease enter the no. to check for armstrong:120\n",
      "\n",
      " 120 is not armstrong no. \n",
      "\n"
     ]
    }
   ],
   "source": [
    "#Armstrong Number\n",
    "\n",
    "def cubesum(x):\n",
    "    sum=0\n",
    "    Times=0\n",
    "    \n",
    "    Temp = x\n",
    "    while Temp>0:\n",
    "        Times=Times + 1\n",
    "        Temp = Temp//10\n",
    "        \n",
    "    Temp=x\n",
    "    for n in range (1, Temp+1):\n",
    "        Reminder = Temp % 10\n",
    "        sum=sum +(Reminder **Times)\n",
    "        Temp//=10\n",
    "    return sum\n",
    "\n",
    "x = int (input('\\nPllease enter the no. to check for armstrong:'))\n",
    "\n",
    "if (x== cubesum(x)):\n",
    "    print('\\n %d is armstrong no. \\n'%x)\n",
    "else:\n",
    "    print('\\n %d is not armstrong no. \\n'%x)"
   ]
  },
  {
   "cell_type": "code",
   "execution_count": null,
   "metadata": {},
   "outputs": [],
   "source": []
  }
 ],
 "metadata": {
  "kernelspec": {
   "display_name": "Python 3",
   "language": "python",
   "name": "python3"
  },
  "language_info": {
   "codemirror_mode": {
    "name": "ipython",
    "version": 3
   },
   "file_extension": ".py",
   "mimetype": "text/x-python",
   "name": "python",
   "nbconvert_exporter": "python",
   "pygments_lexer": "ipython3",
   "version": "3.7.6"
  }
 },
 "nbformat": 4,
 "nbformat_minor": 4
}
