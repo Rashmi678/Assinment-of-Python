{
 "cells": [
  {
   "cell_type": "code",
   "execution_count": 11,
   "metadata": {},
   "outputs": [
    {
     "name": "stdout",
     "output_type": "stream",
     "text": [
      "Enter The Nubmber:7\n",
      "Table of num is:\n",
      "7 X 1 = 7\n",
      "7 X 2 = 14\n",
      "7 X 3 = 21\n",
      "7 X 4 = 28\n",
      "7 X 5 = 35\n",
      "7 X 6 = 42\n",
      "7 X 7 = 49\n",
      "7 X 8 = 56\n",
      "7 X 9 = 63\n",
      "7 X 10 = 70\n"
     ]
    }
   ],
   "source": [
    "num = int(input('Enter The Nubmber:'))\n",
    "print('Table of num is:')\n",
    "\n",
    "for i in range(1,11):\n",
    "    print (num,'X',i,'=',num*i)"
   ]
  },
  {
   "cell_type": "code",
   "execution_count": 19,
   "metadata": {},
   "outputs": [],
   "source": [
    "def is_prime(n):\n",
    "    for i in range(2,n):\n",
    "        if n%i==0:\n",
    "            return False\n",
    "    return True\n",
    "\n",
    "def generate_twin(start,end):\n",
    "    for i in range (start,end):\n",
    "         j=i+2    \n",
    "    if(is_prime(i)and is_prime(j)):\n",
    "        print ('{:d} and {:d}'.format(i,j))     \n",
    "        \n",
    "generate_twin(2,1000)"
   ]
  },
  {
   "cell_type": "code",
   "execution_count": 35,
   "metadata": {},
   "outputs": [
    {
     "name": "stdout",
     "output_type": "stream",
     "text": [
      "Enter the no:56\n",
      " 2 is a Prime Factor of a Given Number 56\n",
      " 3 is a Prime Factor of a Given Number 56\n",
      " 7 is a Prime Factor of a Given Number 56\n"
     ]
    }
   ],
   "source": [
    "n=int(input('Enter the no:'))\n",
    "\n",
    "for i in range(2, n+1):\n",
    "    if n%i==0:\n",
    "        is_prime=1\n",
    "        for j in range(2,(i//2+1)):\n",
    "            if (i%j==0):\n",
    "                is_prime=0\n",
    "                break\n",
    "          \n",
    "    if (is_prime == 1):\n",
    "        print(\" %d is a Prime Factor of a Given Number %d\" %(i,n))"
   ]
  },
  {
   "cell_type": "code",
   "execution_count": 42,
   "metadata": {},
   "outputs": [
    {
     "name": "stdout",
     "output_type": "stream",
     "text": [
      "Enter Decimal number:54\n",
      "Equivalent Binary No.: 0b110110\n"
     ]
    }
   ],
   "source": [
    "num=int(input('Enter Decimal number:'))\n",
    "print('Equivalent Binary No.:', bin(num))"
   ]
  },
  {
   "cell_type": "code",
   "execution_count": 46,
   "metadata": {},
   "outputs": [
    {
     "data": {
      "text/plain": [
       "6"
      ]
     },
     "execution_count": 46,
     "metadata": {},
     "output_type": "execute_result"
    }
   ],
   "source": [
    "def prodDigits(x,y):\n",
    "    return x*y\n",
    "result=prodDigits (2,3)\n",
    "result"
   ]
  },
  {
   "cell_type": "code",
   "execution_count": 2,
   "metadata": {},
   "outputs": [
    {
     "data": {
      "text/plain": [
       "(1, 3, 5, 7, 9)"
      ]
     },
     "execution_count": 2,
     "metadata": {},
     "output_type": "execute_result"
    }
   ],
   "source": [
    "def is_odd(x):\n",
    "    if x%2!= 0:\n",
    "        return True\n",
    "    else:\n",
    "        return False\n",
    "\n",
    "l=[1,2,3,4,5,6,7,8,9]    \n",
    "tuple(filter(is_odd,l))"
   ]
  },
  {
   "cell_type": "code",
   "execution_count": 5,
   "metadata": {},
   "outputs": [
    {
     "data": {
      "text/plain": [
       "(1, 8, 27, 64, 125, 216)"
      ]
     },
     "execution_count": 5,
     "metadata": {},
     "output_type": "execute_result"
    }
   ],
   "source": [
    "def cube(x):\n",
    "    return x**3\n",
    "\n",
    "l=[1,2,3,4,5,6]\n",
    "tuple (map(cube,l))"
   ]
  },
  {
   "cell_type": "code",
   "execution_count": 16,
   "metadata": {},
   "outputs": [
    {
     "data": {
      "text/plain": [
       "(8, 64, 216, 512)"
      ]
     },
     "execution_count": 16,
     "metadata": {},
     "output_type": "execute_result"
    }
   ],
   "source": [
    "def iseven(x):\n",
    "    if x%2==0:\n",
    "        return True\n",
    "    \n",
    "def cube(x):\n",
    "    return x**3\n",
    "\n",
    "l=[1,2,3,4,5,6,7,8,9]\n",
    "a=tuple(filter(iseven,l))\n",
    "a\n",
    "tuple(map(cube,a))"
   ]
  },
  {
   "cell_type": "code",
   "execution_count": 17,
   "metadata": {},
   "outputs": [
    {
     "name": "stdout",
     "output_type": "stream",
     "text": [
      "\n",
      "Pllease enter the no. to check for armstrong:120\n",
      "\n",
      " 120 is not armstrong no. \n",
      "\n"
     ]
    }
   ],
   "source": [
    "#Armstrong Number\n",
    "\n",
    "def cubesum(x):\n",
    "    sum=0\n",
    "    Times=0\n",
    "    \n",
    "    Temp = x\n",
    "    while Temp>0:\n",
    "        Times=Times + 1\n",
    "        Temp = Temp//10\n",
    "        \n",
    "    Temp=x\n",
    "    for n in range (1, Temp+1):\n",
    "        Reminder = Temp % 10\n",
    "        sum=sum +(Reminder **Times)\n",
    "        Temp//=10\n",
    "    return sum\n",
    "\n",
    "x = int (input('\\nPllease enter the no. to check for armstrong:'))\n",
    "\n",
    "if (x== cubesum(x)):\n",
    "    print('\\n %d is armstrong no. \\n'%x)\n",
    "else:\n",
    "    print('\\n %d is not armstrong no. \\n'%x)"
   ]
  },
  {
   "cell_type": "code",
   "execution_count": 24,
   "metadata": {},
   "outputs": [
    {
     "ename": "IndentationError",
     "evalue": "unexpected indent (<ipython-input-24-7e75b5366b68>, line 11)",
     "output_type": "error",
     "traceback": [
      "\u001b[1;36m  File \u001b[1;32m\"<ipython-input-24-7e75b5366b68>\"\u001b[1;36m, line \u001b[1;32m11\u001b[0m\n\u001b[1;33m    if(is_prime(i)and is_prime(j)):\u001b[0m\n\u001b[1;37m    ^\u001b[0m\n\u001b[1;31mIndentationError\u001b[0m\u001b[1;31m:\u001b[0m unexpected indent\n"
     ]
    }
   ],
   "source": [
    "def is_prime(n):\n",
    "    for i in range(2,n):\n",
    "        if n%i==0:\n",
    "            return False\n",
    "        else:\n",
    "            return True\n",
    "\n",
    "def generate_twin(start,end):\n",
    "    for i in range (start,end):\n",
    "         j=i+2 \n",
    "            if(is_prime(i)and is_prime(j)):\n",
    "                print ('{:d} and {:d}'.format(i,j))     \n",
    "        \n",
    "generate_twin(2,1000)"
   ]
  },
  {
   "cell_type": "code",
   "execution_count": null,
   "metadata": {},
   "outputs": [],
   "source": []
  },
  {
   "cell_type": "code",
   "execution_count": 11,
   "metadata": {},
   "outputs": [
    {
     "name": "stdout",
     "output_type": "stream",
     "text": [
      "3 and 5\n",
      "5 and 7\n",
      "7 and 9\n",
      "9 and 11\n",
      "11 and 13\n",
      "13 and 15\n",
      "15 and 17\n",
      "17 and 19\n",
      "19 and 21\n",
      "21 and 23\n",
      "23 and 25\n",
      "25 and 27\n",
      "27 and 29\n",
      "29 and 31\n",
      "31 and 33\n",
      "33 and 35\n",
      "35 and 37\n",
      "37 and 39\n",
      "39 and 41\n",
      "41 and 43\n",
      "43 and 45\n",
      "45 and 47\n",
      "47 and 49\n",
      "49 and 51\n",
      "51 and 53\n",
      "53 and 55\n",
      "55 and 57\n",
      "57 and 59\n",
      "59 and 61\n",
      "61 and 63\n",
      "63 and 65\n",
      "65 and 67\n",
      "67 and 69\n",
      "69 and 71\n",
      "71 and 73\n",
      "73 and 75\n",
      "75 and 77\n",
      "77 and 79\n",
      "79 and 81\n",
      "81 and 83\n",
      "83 and 85\n",
      "85 and 87\n",
      "87 and 89\n",
      "89 and 91\n",
      "91 and 93\n",
      "93 and 95\n",
      "95 and 97\n",
      "97 and 99\n",
      "99 and 101\n"
     ]
    }
   ],
   "source": [
    "def is_prime(n):\n",
    "    for i in range (2,n):\n",
    "        if n%i==0:\n",
    "            return False\n",
    "        return True\n",
    "    \n",
    "def generate_twins(start,end):\n",
    "    for i in range(start,end):\n",
    "        j=i+2\n",
    "        if(is_prime(i)and is_prime(j)):\n",
    "            print(\"{:d} and {:d}\".format(i,j))\n",
    "    \n",
    "generate_twins(2,100)"
   ]
  },
  {
   "cell_type": "code",
   "execution_count": null,
   "metadata": {},
   "outputs": [],
   "source": []
  }
 ],
 "metadata": {
  "kernelspec": {
   "display_name": "Python 3",
   "language": "python",
   "name": "python3"
  },
  "language_info": {
   "codemirror_mode": {
    "name": "ipython",
    "version": 3
   },
   "file_extension": ".py",
   "mimetype": "text/x-python",
   "name": "python",
   "nbconvert_exporter": "python",
   "pygments_lexer": "ipython3",
   "version": "3.7.6"
  }
 },
 "nbformat": 4,
 "nbformat_minor": 4
}
